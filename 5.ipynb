{
 "cells": [
  {
   "attachments": {},
   "cell_type": "markdown",
   "metadata": {},
   "source": [
    "### На сколько сигм (средних квадратичных отклонений) отклоняется рост человека, равный 190 см, от математического ожидания роста в популяции, в которой M(X) = 178 см и D(X) = 25 кв.см?\n",
    "\n",
    "Формула Z = (x - mu) / sigma\n",
    "\n",
    "sigma = корень из дисперсии, т.е. корень из 25\n",
    "\n",
    "mu - среднее (математическое ожидание) = 178\n",
    "\n",
    "x = 190"
   ]
  },
  {
   "cell_type": "code",
   "execution_count": null,
   "metadata": {},
   "outputs": [],
   "source": [
    "from math import sqrt\n",
    "\n",
    "def Z(x, mu, sigma):\n",
    "    return (x - mu) / sigma\n",
    "\n",
    "\n",
    "sigma = sqrt(25)\n",
    "\n",
    "Z(190, 178, sigma)"
   ]
  },
  {
   "attachments": {},
   "cell_type": "markdown",
   "metadata": {},
   "source": [
    "Ответ: На 2.4 сигмы отклоняется рост человека, равный 190 см."
   ]
  }
 ],
 "metadata": {
  "kernelspec": {
   "display_name": "Python 3",
   "language": "python",
   "name": "python3"
  },
  "language_info": {
   "name": "python",
   "version": "3.11.1"
  },
  "orig_nbformat": 4
 },
 "nbformat": 4,
 "nbformat_minor": 2
}
