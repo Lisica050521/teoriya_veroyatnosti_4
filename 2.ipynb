{
 "cells": [
  {
   "attachments": {},
   "cell_type": "markdown",
   "metadata": {},
   "source": [
    "### О случайной непрерывной равномерно распределенной величине B известно, что ее дисперсия равна 0.2. Можно ли найти правую границу величины B и ее среднее значение зная, что левая граница равна 0.5? Если да, найдите ее.\n",
    "\n",
    "Формула нахождения дисперсии = (b-a)^2 / 12\n",
    "\n",
    "Нам известно, что a = 0.5\n",
    "Так же то, что d^2 = 0.2\n",
    "Соответственно: (b - 0.5)^2 / 12\n",
    "\n",
    "(b-0.5)^2 = квадрат разности, раскладывается, как b^2 - 2 * 0.5 * b + 0.5^2 = b^2 - b + 0.25\n",
    "\n",
    "Составим уравнение: b^2 - b + 0.25 = 0.2 * 12\n",
    "\n",
    "b^2 - b - 2.15 = 0"
   ]
  },
  {
   "cell_type": "code",
   "execution_count": 2,
   "metadata": {},
   "outputs": [
    {
     "data": {
      "text/plain": [
       "2.049193338482967"
      ]
     },
     "execution_count": 2,
     "metadata": {},
     "output_type": "execute_result"
    }
   ],
   "source": [
    "from math import sqrt\n",
    "\n",
    "discriminant = 1 - (4 * 1 * (-2.15))\n",
    "root = (1 + sqrt(discriminant)) / 2\n",
    "\n",
    "root"
   ]
  },
  {
   "attachments": {},
   "cell_type": "markdown",
   "metadata": {},
   "source": [
    "Мы нашли b = 2.049 - Это и есть правая граница величины B\n",
    "\n",
    "Подставим в формулу для проверки"
   ]
  },
  {
   "cell_type": "code",
   "execution_count": 3,
   "metadata": {},
   "outputs": [
    {
     "data": {
      "text/plain": [
       "0.20000000000000004"
      ]
     },
     "execution_count": 3,
     "metadata": {},
     "output_type": "execute_result"
    }
   ],
   "source": [
    "((2.049193338482967 - 0.5) ** 2) / 12"
   ]
  },
  {
   "attachments": {},
   "cell_type": "markdown",
   "metadata": {},
   "source": [
    "Теперь найдем среднее значение\n",
    "\n",
    "M(X) = (a + b) / 2"
   ]
  },
  {
   "cell_type": "code",
   "execution_count": 4,
   "metadata": {},
   "outputs": [
    {
     "data": {
      "text/plain": [
       "1.2745966692414834"
      ]
     },
     "execution_count": 4,
     "metadata": {},
     "output_type": "execute_result"
    }
   ],
   "source": [
    "(0.5 + root) / 2"
   ]
  },
  {
   "attachments": {},
   "cell_type": "markdown",
   "metadata": {},
   "source": [
    "Ответ: правая граница величины B = 2.049, а среднее значение = 1.275"
   ]
  }
 ],
 "metadata": {
  "kernelspec": {
   "display_name": "Python 3",
   "language": "python",
   "name": "python3"
  },
  "language_info": {
   "codemirror_mode": {
    "name": "ipython",
    "version": 3
   },
   "file_extension": ".py",
   "mimetype": "text/x-python",
   "name": "python",
   "nbconvert_exporter": "python",
   "pygments_lexer": "ipython3",
   "version": "3.11.1"
  },
  "orig_nbformat": 4
 },
 "nbformat": 4,
 "nbformat_minor": 2
}
